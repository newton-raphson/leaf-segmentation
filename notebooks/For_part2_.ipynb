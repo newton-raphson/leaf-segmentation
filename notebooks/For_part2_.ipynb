{
  "nbformat": 4,
  "nbformat_minor": 0,
  "metadata": {
    "colab": {
      "provenance": []
    },
    "kernelspec": {
      "name": "python3",
      "display_name": "Python 3"
    },
    "language_info": {
      "name": "python"
    }
  },
  "cells": [
    {
      "cell_type": "code",
      "execution_count": null,
      "metadata": {
        "id": "h0so1NRjX-Rj"
      },
      "outputs": [],
      "source": [
        "# Reload the original image in case it was altered\n",
        "import cv2\n",
        "import matplotlib.pyplot as plt\n",
        "\n",
        "from google.colab.patches import cv2_imshow\n",
        "image = cv2.imread('/content/drive/MyDrive/Agricultural_Image_Analytics/AgandBio/1.jpg')\n",
        "\n",
        "# Convert the image to grayscale\n",
        "gray = cv2.cvtColor(image, cv2.COLOR_BGR2GRAY)\n",
        "\n",
        "# Use a large horizontal kernel to detect horizontal lines\n",
        "horizontal_kernel = cv2.getStructuringElement(cv2.MORPH_RECT, (25,1))\n",
        "detected_lines = cv2.morphologyEx(gray, cv2.MORPH_OPEN, horizontal_kernel, iterations=2)\n",
        "\n",
        "# Subtract the detected lines from the original grayscale image\n",
        "cleaned_img = cv2.subtract(gray, detected_lines)\n",
        "\n",
        "# Threshold the image to get a binary image\n",
        "_, binary_cleaned_img = cv2.threshold(cleaned_img, 0, 255, cv2.THRESH_BINARY_INV + cv2.THRESH_OTSU)\n",
        "\n",
        "# Display the cleaned image\n",
        "plt.figure(figsize=(10, 5))\n",
        "\n",
        "plt.subplot(1, 2, 1)\n",
        "plt.title('Original Image')\n",
        "plt.imshow(cv2.cvtColor(image, cv2.COLOR_BGR2RGB))\n",
        "plt.axis('off')\n",
        "\n",
        "plt.subplot(1, 2, 2)\n",
        "plt.title('Cleaned Image')\n",
        "plt.imshow(binary_cleaned_img, cmap='gray')\n",
        "plt.axis('off')\n",
        "\n",
        "plt.tight_layout()\n",
        "plt.show()\n",
        "\n",
        "import cv2\n",
        "\n",
        "# Assuming 'image' is your original BGR image\n",
        "\n",
        "# Convert binary_cleaned_img to 3 channels\n",
        "binary_cleaned_img_3ch = cv2.cvtColor(binary_cleaned_img, cv2.COLOR_GRAY2BGR)\n",
        "\n",
        "# Invert the binary image so the lines are black and the background is white\n",
        "binary_cleaned_img_inv = cv2.bitwise_not(binary_cleaned_img_3ch)\n",
        "\n",
        "# Apply bitwise AND to get the cleaned image in the original\n",
        "result = cv2.bitwise_and(image, binary_cleaned_img_inv)\n",
        "\n",
        "# Display or save the result\n",
        "cv2_imshow( result)\n",
        "cv2.waitKey(0)\n",
        "cv2.destroyAllWindows()\n"
      ]
    }
  ]
}